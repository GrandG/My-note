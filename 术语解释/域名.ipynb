{
 "cells": [
  {
   "cell_type": "markdown",
   "metadata": {},
   "source": [
    "## 顶级域名 一级域名 二级域名等是什么\n",
    "\n",
    "### 顶级域名(即一级域名)\n",
    "\n",
    "#### 像.org, .com, .cn这种就是顶级域名\n",
    "\n",
    "### N级域名\n",
    "\n",
    "#### N级域名是在N-1级域名前加一级. 如二级域名是: baidu.com, zhihu.com, qq.com. 注意也有些人说这种是一级域名, 这是错误的, 但也是可理解的, 因为一般买域名就买到二级域名, 他们会把xxx.com, xxx.com.cn都叫做一级域名, 实际上应该叫二级域名, 三级域名.\n",
    "\n",
    "### wiki上说, 例如example.com中, example是二级域名.\n",
    "\n",
    "## 跨域跨域解决方案(Cross Domain Solution(CDS)\n",
    "\n",
    "> A cross domain solution is a means of information assuration that provide the abality to manually or automatically access or transfer between two or more different security domain.\n",
    "\n",
    "### JavaScript出于安全的考虑, 不允许跨域调用其它页面的对象. 具体看[这里](http://www.cnblogs.com/hustskyking/archive/2013/03/31/CDS-introduce.html)\n",
    "\n",
    "## 跨域资源共享(Cross-origin resource sharing)\n"
   ]
  },
  {
   "cell_type": "code",
   "execution_count": null,
   "metadata": {},
   "outputs": [],
   "source": []
  }
 ],
 "metadata": {
  "kernelspec": {
   "display_name": "Python 3",
   "language": "python",
   "name": "python3"
  },
  "language_info": {
   "codemirror_mode": {
    "name": "ipython",
    "version": 3
   },
   "file_extension": ".py",
   "mimetype": "text/x-python",
   "name": "python",
   "nbconvert_exporter": "python",
   "pygments_lexer": "ipython3",
   "version": "3.6.4"
  }
 },
 "nbformat": 4,
 "nbformat_minor": 2
}
