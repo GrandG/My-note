{
 "cells": [
  {
   "cell_type": "markdown",
   "metadata": {},
   "source": [
    "## Linux简介\n",
    "\n",
    "- Minix\n",
    "- Unix\n",
    "- Linus Torvalds & Linux\n",
    "- Linux 1991年发布\n",
    "\n",
    "## Linux内核版本 & Linux发行版本\n",
    "\n",
    "### Linux内核版本\n",
    "\n",
    "指linux的核心版本\n",
    "- 由www.kernel.org发布\n",
    "- 版本说明: 2.6.18: 2叫做主版本, 6叫做次版本, 18叫做末版本\n",
    "\n",
    "### Linux内核版本\n",
    "\n",
    "在内核版的基础上做一些修改, 由各个厂商发布\n",
    "\n",
    "- 常用的有: redhat, centos, ubuntu\n",
    "- centos和redhead一模一样, 区别是redhead要收费; centos已经被redhead收购.\n",
    "- 服务器上装不会有图形界面\n",
    "\n",
    "## 开源软件简介\n",
    "\n",
    "- Apache, Nginx, python, PHP, MySQL\n",
    "- 开源不等于免费, 但绝大多数开源软件是免费的\n",
    "- 使用的自由; 研究的自由; 散布及改良的自由\n",
    "\n",
    "## Linux的应用领域\n",
    "\n",
    "#### 基于Linux的企业服务器\n",
    "\n",
    "- [这个网站](www.netcraft.com)可以查看网站的服务器信息\n",
    "- 全球服务器使用Linux系统的占80%\n",
    "\n",
    "#### 嵌入式应用\n",
    "\n",
    "- 安卓系统的底层是Linux, 苹果的是Unix\n",
    "\n",
    "## Linux与Windows的不同\n",
    "\n",
    "- Linux严格区分大小写; dos是区分大小写的, 因为dos不属于linux, 它属于windows; dos命令与Linux命令有区别, 例如列出所以文件, dos是dir, linux是ls\n",
    "- Linux中所有内容以文件形式保存, 包括硬件\n",
    "- Linux不靠扩展名区分文件类型, 但习惯上为了好认还是加了后缀, 但是后缀名不起实际作用.\n",
    "- 常用的后缀名: <br \\>\n",
    "```\n",
    "压缩包: \"*.gz\", \"*.bz2\", \"*.tar.bz2\", \"*.tgz\"等\n",
    "二进制软件包: \"*.rpm\"\n",
    "网页文件: \"*.html\", \"*.php\"\n",
    "脚本文件: \"*.sh\"\n",
    "配置文件: \"*.conf\"\n",
    "```\n",
    "\n",
    "- Windows下的程序不能直接在Linux中安装和运行\n",
    "\n",
    "## 字符界面的优势\n",
    "\n",
    "- 字符界面占用的系统资源更少\n",
    "- 字符界面减少出错, 被攻击的可能性\n"
   ]
  },
  {
   "cell_type": "code",
   "execution_count": null,
   "metadata": {},
   "outputs": [],
   "source": []
  }
 ],
 "metadata": {
  "kernelspec": {
   "display_name": "Python 3",
   "language": "python",
   "name": "python3"
  },
  "language_info": {
   "codemirror_mode": {
    "name": "ipython",
    "version": 3
   },
   "file_extension": ".py",
   "mimetype": "text/x-python",
   "name": "python",
   "nbconvert_exporter": "python",
   "pygments_lexer": "ipython3",
   "version": "3.6.4"
  }
 },
 "nbformat": 4,
 "nbformat_minor": 2
}
