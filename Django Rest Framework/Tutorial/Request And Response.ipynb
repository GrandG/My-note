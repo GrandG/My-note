{
 "cells": [
  {
   "cell_type": "code",
   "execution_count": null,
   "metadata": {},
   "outputs": [],
   "source": []
  },
  {
   "cell_type": "code",
   "execution_count": null,
   "metadata": {},
   "outputs": [],
   "source": []
  },
  {
   "cell_type": "markdown",
   "metadata": {},
   "source": [
    "## Request And Response\n",
    "\n",
    "### Request\n",
    "扩展了django的request, 可以通过request.data获得数据, 作用与request.POST一样, 但是request.POST只能处理POST请求, request.data可以处理任何请求\n",
    "\n",
    "### Response\n",
    "基本上与JsonResponse作用一样 ,return Response(data). 但是JsonRsponse指定了返回的数据是Json格式的, Response没有指定, 可以通过format参数指定\n",
    "\n",
    "### Status Code\n",
    "直接使用数字作为Status Code也可以, 但这样意思不够明确. 使用rest_framework的HTTP_400_BAD_REQUEST这些status可以很明白看到code代表的含义.\n",
    "\n",
    "### Wrapping API View\n",
    "1. 对于Function Base View, 使用@api_view\n",
    "2. 对于Class Base View, 使用APIView\n",
    "3. 使用了这个之后, api就可以Browserable, 因为其为API配置了模板base.html, 用bootstrap写的.\n",
    "\n",
    "APIView主要是确保传递了request, response中包装了一些上下文, 进行一些异常的处理检查.\n",
    "\n",
    "### 添加可选的format suffixes到URLs\n",
    "1. 视图中加上format=None的形参\n",
    "2. urlpatterns = format_suffix_patterns(urlpatterns)\n",
    "3. 作用是, 可以根据请求来返回不同representation的数据, 如:\n",
    "    * http://127.0.0.1:8000/snippets.api 会返回api形式的数据, browserable, 或者在url后指定format=api\n",
    "    * http://127.0.0.1:8000/snippets.json 会返回json形式的数据, 或者在url后指定format=json"
   ]
  },
  {
   "cell_type": "code",
   "execution_count": null,
   "metadata": {},
   "outputs": [],
   "source": []
  }
 ],
 "metadata": {
  "kernelspec": {
   "display_name": "Python 3",
   "language": "python",
   "name": "python3"
  },
  "language_info": {
   "codemirror_mode": {
    "name": "ipython",
    "version": 3
   },
   "file_extension": ".py",
   "mimetype": "text/x-python",
   "name": "python",
   "nbconvert_exporter": "python",
   "pygments_lexer": "ipython3",
   "version": "3.6.4"
  }
 },
 "nbformat": 4,
 "nbformat_minor": 2
}
