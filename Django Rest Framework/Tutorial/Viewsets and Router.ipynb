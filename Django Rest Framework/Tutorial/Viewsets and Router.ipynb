{
 "cells": [
  {
   "cell_type": "markdown",
   "metadata": {},
   "source": [
    "### ViewSets and Routers\n",
    "- ViewSets是抽象整合了ListView和DetailView的代码, get请求会转到list或retrieve方法, post转到create方法, put转到partial_update方法, delete转到destroy方法\n",
    "- detail_route装饰器创建定制化方法, 增加create/update/delete以外的方法.\n",
    "- 使用了Router可以代替url conf, 得到的url的名字有默认值\n",
    "- viewsets.as_view()可以得到view"
   ]
  },
  {
   "cell_type": "code",
   "execution_count": null,
   "metadata": {},
   "outputs": [],
   "source": []
  }
 ],
 "metadata": {
  "kernelspec": {
   "display_name": "Python 3",
   "language": "python",
   "name": "python3"
  },
  "language_info": {
   "codemirror_mode": {
    "name": "ipython",
    "version": 3
   },
   "file_extension": ".py",
   "mimetype": "text/x-python",
   "name": "python",
   "nbconvert_exporter": "python",
   "pygments_lexer": "ipython3",
   "version": "3.6.4"
  }
 },
 "nbformat": 4,
 "nbformat_minor": 2
}
