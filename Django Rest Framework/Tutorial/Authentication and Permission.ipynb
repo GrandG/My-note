{
 "cells": [
  {
   "cell_type": "markdown",
   "metadata": {},
   "source": [
    "## Authentication and Permissions\n",
    "\n",
    "### Snippet模型增加信息\n",
    "- Snippet模型增加owner字段\n",
    "\n",
    "### Serializer User模型\n",
    "- 反向关系字段要单独设\n",
    "\n",
    "### 创建Snippet对象绑定用户\n",
    "- 在Snippet中重写perform_create方法\n",
    "\n",
    "### 添加权限\n",
    "permission_classes = (,)\n",
    "\n",
    "### 对象级别的权限\n",
    "- 创建permissions.py文件夹\n",
    "- 定义自己的权限类, 加入到permission_classes中\n",
    "\n",
    "### Authenticate with API\n",
    "- 暂时看不太懂"
   ]
  },
  {
   "cell_type": "code",
   "execution_count": null,
   "metadata": {},
   "outputs": [],
   "source": []
  }
 ],
 "metadata": {
  "kernelspec": {
   "display_name": "Python 3",
   "language": "python",
   "name": "python3"
  },
  "language_info": {
   "codemirror_mode": {
    "name": "ipython",
    "version": 3
   },
   "file_extension": ".py",
   "mimetype": "text/x-python",
   "name": "python",
   "nbconvert_exporter": "python",
   "pygments_lexer": "ipython3",
   "version": "3.6.4"
  }
 },
 "nbformat": 4,
 "nbformat_minor": 2
}
