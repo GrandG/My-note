{
 "cells": [
  {
   "cell_type": "markdown",
   "metadata": {},
   "source": [
    "## Serializers\n",
    "\n",
    "- Serializers类与Django的Form类非常相似\n",
    "- Serializers的TextField也定义为Charfield加上style={'base_template': 'textarea.html'}参数; Form也一样, 但是Form加的参数是widget=widgets.Textarea\n",
    "- **dict** ==> JSONRenderer().render() ==> **二进制**;     **二进制** ==> BytesIO() ==> **stream** JSONParser().parse() ==> **dict**\n",
    "- 设serializer = Serializers(model_object), serializer.data可以得到python datatype 的数据, 再经过JSONRenderer可以序列化.\n",
    "- **Serializer**和**ModelSerializer**的区别在于: ModelSerializer根据模型定义了每一个Field; 并且自定义了create, update方法\n",
    "- Serializer的作用:\n",
    "    * 查询. \n",
    "        + 查询一个对象 Serializer(model_object)\n",
    "        + 查询queryset Serailizer(queryst, many=True)\n",
    "    * 创建. Serializer(data)\n",
    "    * 修改. Serializer(model_object, data)\n",
    "    * 删除. 不需要用到Serializer()\n",
    "- 得到serializer实例对象后, 调用**serializer.data**可以获得该模型的, python datatype的数据"
   ]
  },
  {
   "cell_type": "code",
   "execution_count": null,
   "metadata": {},
   "outputs": [],
   "source": []
  }
 ],
 "metadata": {
  "kernelspec": {
   "display_name": "Python 3",
   "language": "python",
   "name": "python3"
  },
  "language_info": {
   "codemirror_mode": {
    "name": "ipython",
    "version": 3
   },
   "file_extension": ".py",
   "mimetype": "text/x-python",
   "name": "python",
   "nbconvert_exporter": "python",
   "pygments_lexer": "ipython3",
   "version": "3.6.4"
  }
 },
 "nbformat": 4,
 "nbformat_minor": 2
}
