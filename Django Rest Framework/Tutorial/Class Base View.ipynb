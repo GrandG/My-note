{
 "cells": [
  {
   "cell_type": "markdown",
   "metadata": {},
   "source": [
    "## Class Base View\n",
    "\n",
    "### 使用APIView\n",
    "- 基本和使用django的generic.View差不多\n",
    "- 其他的和写fbv基本一样\n",
    "\n",
    "### 使用Mixin\n",
    "1.很简单\n",
    "2.类方法依然是与http请求对应, 即def get, def post之类的\n",
    "3.方法直接返回mixin对应的方法即可, 如: \n",
    "```Python\n",
    "def post(self, request, *args, **kwargs): \n",
    "    return self.create(request, *args, **kwargs)\n",
    "```\n",
    "4.把queryset, serializer_class类变量设定好\n",
    "\n",
    "### 使用通用class base view\n",
    "1.更简单\n",
    "2.把queryset, serializer_class类变量设定好就可以, 不用自定义额外的方法"
   ]
  },
  {
   "cell_type": "code",
   "execution_count": null,
   "metadata": {},
   "outputs": [],
   "source": []
  }
 ],
 "metadata": {
  "kernelspec": {
   "display_name": "Python 3",
   "language": "python",
   "name": "python3"
  },
  "language_info": {
   "codemirror_mode": {
    "name": "ipython",
    "version": 3
   },
   "file_extension": ".py",
   "mimetype": "text/x-python",
   "name": "python",
   "nbconvert_exporter": "python",
   "pygments_lexer": "ipython3",
   "version": "3.6.4"
  }
 },
 "nbformat": 4,
 "nbformat_minor": 2
}
