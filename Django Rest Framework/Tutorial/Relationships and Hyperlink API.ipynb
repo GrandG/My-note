{
 "cells": [
  {
   "cell_type": "markdown",
   "metadata": {},
   "source": [
    "## 为snippet和user创建统一进入的根endpoints\n",
    "- 现在根endpint是空的\n",
    "\n",
    "## 用HyperLink来联系不同的entities\n",
    "- 有很多种方法可以用来表示entities之间的relationships:\n",
    "    * 使用primary key\n",
    "    * 使用hyperlink\n",
    "    * 使用unique identifying slug\n",
    "    * 使用默认的string representation\n",
    "    * nesting the related entities\n",
    "    * 其他定制化的representation\n",
    "- rest framework支持以上所有方法, 这里介绍使用hyperlink的方法:\n",
    "    * 用HyperlinkedModelSerializer代替ModelSerializer:\n",
    "        + 自动包含一个url字段\n",
    "        + 外键, 一对一, 多对多等关系使用HyperlinkedRelatedField, 而不是PrimaryKeyRelatedField\n",
    "        + 注意, 要使用url字段, 必须要在url.py处, 给获取相应resource的路由指定名字: 'model'-detail\n",
    "        \n",
    "## 分页\n",
    "- 在setting.py中加上:\n",
    "```Python\n",
    "REST_FRAMEWORK = {\n",
    "    'DEFAULT_PAGINATION_CLASS': 'rest_framework.pagination.PageNumberPagination',\n",
    "    'PAGE_SIZE': 10\n",
    "}\n",
    "```\n",
    "\n",
    "## HyperlinkedIdentityField vs HyperlinkedRelatedField\n",
    "- HyperlinkedRelatedField用于外键, 一对一, 多对多等关系及反向关系\n",
    "- HyperlinkedIdentityField用于对象本身的内容\n",
    "\n",
    "## 注意\n",
    "- re_path后面记得要加$符号, 不然会导致匹配不到该url\n",
    "- serializers要设置model类变量; view要设queryset类变量\n"
   ]
  },
  {
   "cell_type": "code",
   "execution_count": null,
   "metadata": {},
   "outputs": [],
   "source": []
  }
 ],
 "metadata": {
  "kernelspec": {
   "display_name": "Python 3",
   "language": "python",
   "name": "python3"
  },
  "language_info": {
   "codemirror_mode": {
    "name": "ipython",
    "version": 3
   },
   "file_extension": ".py",
   "mimetype": "text/x-python",
   "name": "python",
   "nbconvert_exporter": "python",
   "pygments_lexer": "ipython3",
   "version": "3.6.4"
  }
 },
 "nbformat": 4,
 "nbformat_minor": 2
}
