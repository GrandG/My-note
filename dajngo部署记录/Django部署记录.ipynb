{
 "cells": [
  {
   "cell_type": "markdown",
   "metadata": {},
   "source": [
    "## 当前状态: 代码已移到centos中, 用自带的服务器运行无报错\n",
    "\n",
    "## wsgi\n",
    "- wsgi全称: web server gateway interface\n",
    "- 作用是充当Nginx, Apache等服务器和开发者写的application的桥梁, 负责调用application, 同时把request作为参数传给application\n",
    "\n",
    "## app server VS web server(有误, 待验证)\n",
    "- app server: Gunicorn\n",
    "- web server: Apache, Nginx\n",
    "\n",
    "## 为什么生产环境不用Django自带的web server?(manage.py runserver VS gunicorn)\n",
    "1. [官方文档](https://docs.djangoproject.com/en/2.0/ref/django-admin/)指出:\n",
    "> DO NOT USE THIS SERVER IN A PRODUCTION SETTING. It has not gone through security audits or performance tests. (And that’s how it’s gonna stay. We’re in the business of making Web frameworks, not Web servers, so improving this server to be able to handle a production environment is outside the scope of Django.)\n",
    "2. Django自带的server是单线程的, 这意味着没有并发, 而且任何一个代码的hangup都会导致server的hangup.\n",
    "3. manage.py runserver和gunicorn的作用一样, 只是manage.py runserver面向development, gunicorn面向production\n",
    "4. gunicorn可以同时平行地spawn多个worker processes到多个cpu.\n",
    "5. gunicorn有更好的logging\n",
    "6. gunicorn会主动处理安全问题\n",
    "\n",
    "----\n",
    "\n",
    "## nginx和gunicorn有什么区别(niginx VS gunicorn)\n",
    "1. 总体的流程是:\n",
    "    * nginx接受client的请求\n",
    "    * 如果是请求静态文件, nginx直接返回静态文件, 不需要经过django的app\n",
    "    * 如果是动态请求, nginx把请求交给gunicorn, gunicorn再调用django app, 把结果返回给nginx, nginx再返回给client\n",
    "    \n",
    "2. 所以gunicorn是nginx和django app的连接部分, 所以叫做wsgi(web server gateway interface)\n",
    "3. 实际上, 只用gunicorn, 不用nginx也是可以的\n",
    "\n",
    "\n",
    "## 开始部署\n",
    "\n",
    "1. ```pip3 install gunicorn```\n",
    "2. ```gunicorn myproect.wsgi:application -b 0.0.0.0:8000```(注意: 要先开启8000端口, 具体开启方法看\"Linux命令\"中的笔记)\n",
    "    * 可以成功访问, 但发现页面css样式没有加载\n",
    "        + 静态文件一般的做法是由nginx加载\n",
    "        + 在用```manage.py runserver```的时候没有这个问题, 是因为Dajngo自带了静态文件处理器\n",
    "        + [这里](https://zhu327.github.io/2015/09/29/gunicorn%E8%BF%90%E8%A1%8Cdjango%E6%97%B6%E9%9D%99%E6%80%81%E6%96%87%E4%BB%B6%E5%A4%84%E7%90%86/)提供了不用nginx的情况下, 处理静态文件的做法\n",
    "    * myproject指的是项目的名称, 其他都是固定的用法\n",
    "3. 对于2的做法, 可以用```nohup gunicorn myproject.wsgi:application -b 0.0.0.0:8000 &```指令替代, 这样使server在后台运行, 注意, 该命令执行完后会返回一个进程号, 前台不会显示程序结果, 结果会输出到nohup.out文件中.\n",
    "4. ```jobs -l```, 查看后台运行的进程\n",
    "5. ```kill 进程号(PID)```: 杀死该进程\n",
    "6. 处理静态文件\n",
    "    * 在setting.py中设置静态文件目录"
   ]
  },
  {
   "cell_type": "code",
   "execution_count": null,
   "metadata": {},
   "outputs": [],
   "source": []
  }
 ],
 "metadata": {
  "kernelspec": {
   "display_name": "Python 3",
   "language": "python",
   "name": "python3"
  },
  "language_info": {
   "codemirror_mode": {
    "name": "ipython",
    "version": 3
   },
   "file_extension": ".py",
   "mimetype": "text/x-python",
   "name": "python",
   "nbconvert_exporter": "python",
   "pygments_lexer": "ipython3",
   "version": "3.6.4"
  }
 },
 "nbformat": 4,
 "nbformat_minor": 2
}
