{
 "cells": [
  {
   "cell_type": "markdown",
   "metadata": {},
   "source": [
    "## 1. 正斜杆```/```, 也叫做斜杆; 反斜杆```\\```,也叫右斜杆.\n",
    "## 2. 反斜杆基本只在程序里用到, 表示参数的意思, 同理可得各种转义字符, ```\\n, \\t, \\v```等用的是右斜杆.\n",
    "## 3. 只有windows系统特别, 目录路径也用右斜杆```\\```."
   ]
  },
  {
   "cell_type": "code",
   "execution_count": null,
   "metadata": {},
   "outputs": [],
   "source": []
  }
 ],
 "metadata": {
  "kernelspec": {
   "display_name": "Python 3",
   "language": "python",
   "name": "python3"
  },
  "language_info": {
   "codemirror_mode": {
    "name": "ipython",
    "version": 3
   },
   "file_extension": ".py",
   "mimetype": "text/x-python",
   "name": "python",
   "nbconvert_exporter": "python",
   "pygments_lexer": "ipython3",
   "version": "3.6.4"
  }
 },
 "nbformat": 4,
 "nbformat_minor": 2
}
