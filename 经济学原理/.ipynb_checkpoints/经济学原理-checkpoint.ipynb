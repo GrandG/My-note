{
 "cells": [
  {
   "cell_type": "markdown",
   "metadata": {},
   "source": [
    "## How people make decision:\n",
    "### 1. People face tradeoffs.\n",
    "### 2. The cost of something is what you give up to get it.\n",
    "### 3. Rational people think at margins.\n",
    "### 4. People response to incentives.\n",
    "<br/>\n",
    "## How people interact:\n",
    "### 5. Trade makes everyone better off.\n",
    "### 6. Markets are usually a good way to organize economic activities.\n",
    "### 7.The goverment can sometimes improve markets outcomes.\n",
    "<br/>\n",
    "## How economy works:\n",
    "### 8. The standard of living depends on a country's production.\n",
    "### 9. Prices rise when the goverment prints too much money.\n",
    "### 10. Society faces a short-run tradeoffs between inflation and unemployment."
   ]
  },
  {
   "cell_type": "code",
   "execution_count": null,
   "metadata": {},
   "outputs": [],
   "source": []
  }
 ],
 "metadata": {
  "kernelspec": {
   "display_name": "Python 3",
   "language": "python",
   "name": "python3"
  },
  "language_info": {
   "codemirror_mode": {
    "name": "ipython",
    "version": 3
   },
   "file_extension": ".py",
   "mimetype": "text/x-python",
   "name": "python",
   "nbconvert_exporter": "python",
   "pygments_lexer": "ipython3",
   "version": "3.6.4"
  }
 },
 "nbformat": 4,
 "nbformat_minor": 2
}
