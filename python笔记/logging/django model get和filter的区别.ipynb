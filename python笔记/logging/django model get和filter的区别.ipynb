{
 "cells": [
  {
   "cell_type": "markdown",
   "metadata": {},
   "source": [
    "    get(**kwargs)\n",
    ">返回符合查询参数的对象；\n",
    ">当返回一个以上的对象, 会报MultipleObjectsReturned异常；\n",
    ">当查询的对象不存在, 会报DoesNotExist异常\n",
    "\n",
    "-----\n",
    "\n",
    "> Returns the object matching the given lookup parameters, which should be in the format described in Field lookups.\n",
    "\n",
    ">get() raises MultipleObjectsReturned if more than one object was found. The MultipleObjectsReturned exception is an attribute of the model class.\n",
    "\n",
    ">get() raises a DoesNotExist exception if an object wasn't found for the given parameters. This exception is also an attribute of the model class.\n",
    "\n",
    "----\n",
    "\n",
    "----\n",
    "    filter(**kwargs)\n",
    ">返回符合查询对象的queryset\n",
    "\n",
    "----\n",
    "\n",
    ">Returns a new QuerySet containing objects that match the given lookup parameters.\n",
    "\n",
    "\n",
    "## 查询集相当于列表\n"
   ]
  },
  {
   "cell_type": "code",
   "execution_count": null,
   "metadata": {
    "collapsed": true
   },
   "outputs": [],
   "source": [
    "```"
   ]
  }
 ],
 "metadata": {
  "anaconda-cloud": {},
  "kernelspec": {
   "display_name": "Python [conda env:py35]",
   "language": "python",
   "name": "conda-env-py35-py"
  },
  "language_info": {
   "codemirror_mode": {
    "name": "ipython",
    "version": 3
   },
   "file_extension": ".py",
   "mimetype": "text/x-python",
   "name": "python",
   "nbconvert_exporter": "python",
   "pygments_lexer": "ipython3",
   "version": "3.5.2"
  }
 },
 "nbformat": 4,
 "nbformat_minor": 1
}
