{
 "cells": [
  {
   "cell_type": "markdown",
   "metadata": {},
   "source": [
    "## Writin and running test\n",
    "** 这一部分分为两个部分: 解释django如何写测试; 解释如何运行测试 **\n",
    "### How to write\n",
    "\n",
    "    Django使用python的unittest库.<br \\>\n",
    "    以下是一个使用django.test.TestCase的例子, django的TestCase实际上继承者unnitest.TestCase\n",
    "\n",
    "    ```Python\n",
    "    from django.test import TestCase\n",
    "    from myapp.models import Animal\n",
    "\n",
    "    class AnimalTestCase(TestCase):\n",
    "        def setUp(self):\n",
    "            Animal.objects.create(name=\"lion\", sound=\"roar\")\n",
    "            Animal.objects.create(name=\"cat\", sound=\"meow\")\n",
    "\n",
    "        def test_animals_can_speak(self):\n",
    "            \"\"\"Animals that can speak are correctly identified\"\"\"\n",
    "            lion = Animal.objects.get(name=\"lion\")\n",
    "            cat = Animal.objects.get(name=\"cat\")\n",
    "            self.assertEqual(lion.speak(), 'The lion says \"roar\"')\n",
    "            self.assertEqual(cat.speak(), 'The cat says \"meow\"')\n",
    "    ```\n",
    "\n",
    "        当你运行该测试(下面会讲如何运行), django的机制会找到所有以test开头的文件, 自动为这些test case建立test suite, 并运行这些test suite.\n",
    "\n",
    "    开始的时候可以把测试文件写在自动生成的test.py文件中, 后面test suite变大之后可以建立一个tests pacage专门存放test文件<br \\>\n",
    "    ** 警告: 如果你的测试依赖于数据库交互, 那么创建的Test Class必须继承django.test.TestCase, 而不能继承与unittest.TestCase. 继承unittest.TestCase可以避免运行测试时与数据库交互的成本, 但是如果你写的测试要与数据库交互会广泛依赖于test runner执行的顺序(不太理解) **\n",
    "\n",
    ">Warning\n",
    "\n",
    ">If your tests rely on database access such as creating or querying models, be sure to create your test classes as subclasses >of django.test.TestCase rather than unittest.TestCase.\n",
    "\n",
    ">Using unittest.TestCase avoids the cost of running each test in a transaction and flushing the database, but if your tests >interact with the database their behavior will vary based on the order that the test runner executes them. This can lead to >unit tests that pass when run in isolation but fail when run in a suite.\n",
    "\n",
    "\n",
    "### How to run\n",
    "\n",
    "```python manage.py test``` 会运行在当前工作目录下, 所有以test开头的py文件, 也可以用.分割单独运行某个module下的测试文件, 注意最后的py文件省略.py后缀\n",
    "\n",
    "### The Test Database\n",
    "\n",
    "## Testing tools\n",
    "## Advanced testing tools"
   ]
  },
  {
   "cell_type": "code",
   "execution_count": null,
   "metadata": {
    "collapsed": true
   },
   "outputs": [],
   "source": []
  }
 ],
 "metadata": {
  "anaconda-cloud": {},
  "kernelspec": {
   "display_name": "Python [conda env:py35]",
   "language": "python",
   "name": "conda-env-py35-py"
  },
  "language_info": {
   "codemirror_mode": {
    "name": "ipython",
    "version": 3
   },
   "file_extension": ".py",
   "mimetype": "text/x-python",
   "name": "python",
   "nbconvert_exporter": "python",
   "pygments_lexer": "ipython3",
   "version": "3.5.2"
  }
 },
 "nbformat": 4,
 "nbformat_minor": 1
}
