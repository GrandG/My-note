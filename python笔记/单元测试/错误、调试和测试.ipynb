{
 "cells": [
  {
   "cell_type": "markdown",
   "metadata": {},
   "source": [
    "# 错误处理\n",
    "1. python的错误是类, 所有的错误都继承于BaseException, 所以在捕获某类型的错误时, 会把该类型错误的子类也捕获.[常见的错误类型和继承关系](https://docs.python.org/3/library/exceptions.html#exception-hierarchy)\n",
    "2. 如果错误没有被捕获, 他会一直往上跑, 直到最后被Python解释器捕获\n",
    "\n",
    "```Python\n",
    "# err.py:\n",
    "def foo(s):\n",
    "    return 10 / int(s)\n",
    "\n",
    "def bar(s):\n",
    "    return foo(s) * 2\n",
    "\n",
    "def main():\n",
    "    bar('0')\n",
    "\n",
    "main()\n",
    "```\n",
    "\n",
    "    执行结果如下:\n",
    "    ```Python\n",
    "    $ python3 err.py\n",
    "    Traceback (most recent call last):\n",
    "      File \"err.py\", line 11, in <module>\n",
    "        main()\n",
    "      File \"err.py\", line 9, in main\n",
    "        bar('0')\n",
    "      File \"err.py\", line 6, in bar\n",
    "        return foo(s) * 2\n",
    "      File \"err.py\", line 3, in foo\n",
    "        return 10 / int(s)\n",
    "    ZeroDivisionError: division by zero\n",
    "    ```\n",
    "\n",
    "3. 在bar()函数中，我们明明已经捕获了错误，但是，打印一个ValueError!后，又把错误通过raise语句抛出去了, 捕获错误目的只是记录一下，便于后续追踪。但是，由于当前函数不知道应该怎么处理该错误，所以，最恰当的方式是继续往上抛，让顶层调用者去处理。\n",
    "\n",
    "```Python\n",
    "# err_reraise.py\n",
    "\n",
    "def foo(s):\n",
    "    n = int(s)\n",
    "    if n==0:\n",
    "        raise ValueError('invalid value: %s' % s)\n",
    "    return 10 / n\n",
    "\n",
    "def bar():\n",
    "    try:\n",
    "        foo('0')\n",
    "    except ValueError as e:\n",
    "        print('ValueError!')\n",
    "        raise\n",
    "\n",
    "bar()\n",
    "```"
   ]
  },
  {
   "cell_type": "code",
   "execution_count": null,
   "metadata": {
    "collapsed": true
   },
   "outputs": [],
   "source": []
  }
 ],
 "metadata": {
  "anaconda-cloud": {},
  "kernelspec": {
   "display_name": "Python [conda env:py35]",
   "language": "python",
   "name": "conda-env-py35-py"
  },
  "language_info": {
   "codemirror_mode": {
    "name": "ipython",
    "version": 3
   },
   "file_extension": ".py",
   "mimetype": "text/x-python",
   "name": "python",
   "nbconvert_exporter": "python",
   "pygments_lexer": "ipython3",
   "version": "3.5.2"
  }
 },
 "nbformat": 4,
 "nbformat_minor": 1
}
