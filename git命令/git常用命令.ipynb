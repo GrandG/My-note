{
 "cells": [
  {
   "cell_type": "markdown",
   "metadata": {},
   "source": [
    "### git常用命令\n",
    "\n",
    "- git remote add origin git@github.com:GrnadG/<仓库名>.git: # 在有远程仓库和本地仓库的情况下, 把本地仓库与远程仓库联系起来, 注意远程仓库创建时不要加gitignore和README文件, 否则要先把远程文件pull一次.\n",
    "\n",
    "<br/>\n",
    "\n",
    "- git push -u origin origin master: # 第一次推到远程库时要加-u参数, 后面的就不用加了, 把master分支推送\n",
    "- git pull origin master: # 拉取master分支\n",
    "\n",
    "<br/>\n",
    "\n",
    "- git config --global user.name username: 创建用户名\n",
    "- git config --global user.email email: 创建用户邮箱\n",
    "\n",
    "<br/>\n",
    "\n",
    "- 在centos中, ```ssh-keygen```命令生成公钥私钥\n",
    "\n",
    "## 在虚拟机中安装git, 并添加公钥到GitHub总结\n",
    "1. yum install git\n",
    "2. git config --global use.name username\n",
    "3. git config --global user.mail.user.email email\n",
    "4. ssh-keygen, 生成公钥私钥\n",
    "5. 重点向github添加本机公钥, 但是centos没有图形界面, 所以要把虚拟机的内容复制到windows再添加, 最后没有找到很好的方法, 只能用xx-net连接虚拟机后再复制公钥"
   ]
  },
  {
   "cell_type": "code",
   "execution_count": null,
   "metadata": {},
   "outputs": [],
   "source": []
  }
 ],
 "metadata": {
  "kernelspec": {
   "display_name": "Python 3",
   "language": "python",
   "name": "python3"
  },
  "language_info": {
   "codemirror_mode": {
    "name": "ipython",
    "version": 3
   },
   "file_extension": ".py",
   "mimetype": "text/x-python",
   "name": "python",
   "nbconvert_exporter": "python",
   "pygments_lexer": "ipython3",
   "version": "3.6.4"
  }
 },
 "nbformat": 4,
 "nbformat_minor": 2
}
